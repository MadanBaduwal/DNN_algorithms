{
 "cells": [
  {
   "cell_type": "markdown",
   "id": "7e535b59",
   "metadata": {},
   "source": [
    "# Reference \n",
    "\n",
    "* https://github.com/dansuh17/alexnet-pytorch/blob/d0c1b1c52296ffcbecfbf5b17e1d1685b4ca6744/model.py#L40"
   ]
  },
  {
   "cell_type": "code",
   "execution_count": 3,
   "id": "9bfe1b4a",
   "metadata": {},
   "outputs": [],
   "source": [
    "import os \n",
    "import torch\n",
    "import torch.nn as nn\n",
    "import torch.optim as optim\n",
    "import torch.nn.functional as F\n",
    "from torch.utils import data \n",
    "import torchvision.datasets as datasats\n",
    "import torchvision.transforms as transforms\n",
    "from tensorboardX import SummaryWriter"
   ]
  },
  {
   "cell_type": "code",
   "execution_count": 5,
   "id": "419cf87f",
   "metadata": {},
   "outputs": [],
   "source": [
    "device = torch.device('cuda' if torch.cuda.is_available() else \"cpu\")"
   ]
  },
  {
   "cell_type": "code",
   "execution_count": 6,
   "id": "a50823b4",
   "metadata": {},
   "outputs": [],
   "source": [
    "NUM_EPOCHS = 90\n",
    "BATCH_SIZE = 128\n",
    "MOMENTUM = 0.9\n",
    "LR_DECAY = 0.0005\n",
    "LR_INIT = 0.01\n",
    "IMAGE_DIM = 227 \n",
    "NUM_XLASSES = 1000\n",
    "DEVICE_IDS = [0,1,2,3]\n",
    "INPUT_ROOT_DIR = 'alexnet_data_in'\n",
    "TRAIN_IMG_DIR = 'alexnet_data_in/imagenet'\n",
    "OUTPUT_DIR = \"alexnet_data_out\"\n",
    "LOG_DIR = OUTPUT_DIR + '/tblogs'\n",
    "CHECKPOINT_DIR = OUTPUT_DIR + '/models'"
   ]
  },
  {
   "cell_type": "code",
   "execution_count": 7,
   "id": "3d9f887f",
   "metadata": {},
   "outputs": [],
   "source": [
    "os.makedirs(CHECKPOINT_DIR,exist_ok = True)"
   ]
  },
  {
   "cell_type": "code",
   "execution_count": null,
   "id": "190656a6",
   "metadata": {},
   "outputs": [],
   "source": [
    "class AlexNet(nn.Module):\n",
    "    def __init__(self,num_classes = 1000):\n",
    "        super().__init__()\n",
    "        "
   ]
  }
 ],
 "metadata": {
  "kernelspec": {
   "display_name": "Python 3 (ipykernel)",
   "language": "python",
   "name": "python3"
  },
  "language_info": {
   "codemirror_mode": {
    "name": "ipython",
    "version": 3
   },
   "file_extension": ".py",
   "mimetype": "text/x-python",
   "name": "python",
   "nbconvert_exporter": "python",
   "pygments_lexer": "ipython3",
   "version": "3.9.7"
  }
 },
 "nbformat": 4,
 "nbformat_minor": 5
}
