{
 "cells": [
  {
   "cell_type": "markdown",
   "metadata": {
    "id": "9xFTEhFINno_"
   },
   "source": [
    "# Steps"
   ]
  },
  {
   "cell_type": "markdown",
   "metadata": {
    "id": "x_XJe5p0Nplh"
   },
   "source": [
    "## Step 1: Input embedding\n",
    "\n",
    "\n",
    "![](https://lena-voita.github.io/resources/lectures/word_emb/lookup_table.gif)\n",
    "\n",
    "![](https://lena-voita.github.io/resources/lectures/word_emb/one_hot-min.png)\n",
    "\n",
    "![](https://lena-voita.github.io/resources/lectures/word_emb/unk_in_voc-min.png)\n",
    "\n",
    "![alt](https://lena-voita.github.io/resources/lectures/word_emb/word_repr_intro-min.png)\n",
    "\n",
    "\n"
   ]
  },
  {
   "cell_type": "markdown",
   "metadata": {
    "id": "Id880AECNrIh"
   },
   "source": [
    "## Step 2: The Positional Encodings\n",
    "\n",
    "![](https://miro.medium.com/max/906/1*B-VR6R5vJl3Y7jbMNf5Fpw.png)"
   ]
  },
  {
   "cell_type": "markdown",
   "metadata": {
    "id": "VDRnYQgGOOhX"
   },
   "source": [
    "## Step 3: Attention layer\n",
    "\n",
    "### Genearl concept\n",
    "\n",
    "![](https://theaisummer.com/static/2e000851b686eb35c6c3c06522437715/26a94/attention-as-database-query.png)\n",
    "\n",
    "### Calculating Attention\n",
    "\n",
    "![](https://miro.medium.com/max/224/1*15E9qKg9bKnWdSRWCyY2iA.png)\n",
    "\n",
    "\n",
    "### Multi-Head \n",
    "\n",
    "![](https://miro.medium.com/max/836/1*1tsRtfaY9z6HxmERYhw8XQ.png)\n",
    "\n",
    "\n",
    "### MAthematics\n",
    "\n",
    "![](https://theaisummer.com/static/56773616d30b9dcb31aa792f2d701276/3096d/key-query-value.png)\n",
    "\n",
    "### The core building block: Multi-head attention and parallel implementation\n",
    "\n",
    "![](https://theaisummer.com/static/9dc2e417714211a5166ece483b862d75/442cb/parallel-multi-head-attention.png)\n"
   ]
  },
  {
   "cell_type": "markdown",
   "metadata": {
    "id": "aFVJ7eaco3Eq"
   },
   "source": [
    "## Step 4: Layer Normalization\n",
    "\n",
    "In Layer Normalization (LN), the mean and variance are computed across channels and spatial dims. In language, each word is a vector. Since we are dealing with vectors we only have one spatial dimension.\n"
   ]
  },
  {
   "cell_type": "markdown",
   "metadata": {
    "id": "MzWPYhgaY1iN"
   },
   "source": [
    "## Step 5: The Feed-Forward Network / Linear layer\n",
    "$y=xW^{T}+b$"
   ]
  },
  {
   "cell_type": "markdown",
   "metadata": {
    "id": "WkQWzYRaZxYv"
   },
   "source": [
    "## Step 6: Creating Masks(opt.)\n",
    "\n",
    "Masking plays an important role in the transformer. It serves two purposes:\n",
    "* In the encoder and decoder: To zero attention outputs wherever there is just padding in the input sentences.\n",
    "* In the decoder: To prevent the decoder ‘peaking’ ahead at the rest of the translated sentence when predicting the next word.\n",
    "\n",
    "\n",
    "$MaskedAttention(Q,K,V)=softmax(\\frac{QK^{T}+M}{\\sqrt {d_{k}}})V$\n",
    "\n",
    "\n",
    "where the matrix M (mask) consists of zeros and −inf.\n"
   ]
  },
  {
   "cell_type": "markdown",
   "metadata": {
    "id": "xqK-FqeHZlUm"
   },
   "source": [
    "## Reference\n",
    "\n",
    "* https://towardsdatascience.com/how-to-code-the-transformer-in-pytorch-24db27c8f9ec\n",
    "\n",
    "* https://theaisummer.com/transformer/"
   ]
  },
  {
   "cell_type": "markdown",
   "metadata": {
    "id": "dhV2G9zbnNMj"
   },
   "source": [
    "Create a new_mapped_dict below which contains the mapped product from fruit_infos for each fruit in fruit_list. if fruit have no product in fruit_infos then put \"unknown\"\n",
    "\n",
    "fruit_infos = [(\"apple\", \"Apple Cyder\"), (\"mango\", \"Fruti\"), (\"Grapes\", \"Wine\"), (\"orange\", \"Tropicana\")]\n",
    "fruit_list = [\"apple\", \"mango\", \"litchi\", \"apple\", \"Grapes\", \"Guava\"]\n",
    "new_mapped_dict = {}\n",
    "example: if orange in fruit_list then new_mapped_dict should be {\"orange\": \"Tropicana\"}"
   ]
  },
  {
   "cell_type": "code",
   "execution_count": 4,
   "metadata": {
    "colab": {
     "base_uri": "https://localhost:8080/",
     "height": 279
    },
    "executionInfo": {
     "elapsed": 22,
     "status": "error",
     "timestamp": 1648557021820,
     "user": {
      "displayName": "Madan Baduwal",
      "userId": "00884602456679084136"
     },
     "user_tz": -345
    },
    "id": "vJg1egmVmcGU",
    "outputId": "48858b50-44c2-4e41-d5bc-5925fb0b44a2"
   },
   "outputs": [
    {
     "name": "stdout",
     "output_type": "stream",
     "text": [
      "<class 'dict'>\n",
      "<class 'str'>\n"
     ]
    },
    {
     "ename": "TypeError",
     "evalue": "ignored",
     "output_type": "error",
     "traceback": [
      "\u001b[0;31m---------------------------------------------------------------------------\u001b[0m",
      "\u001b[0;31mTypeError\u001b[0m                                 Traceback (most recent call last)",
      "\u001b[0;32m<ipython-input-4-fd8afc669c00>\u001b[0m in \u001b[0;36m<module>\u001b[0;34m()\u001b[0m\n\u001b[1;32m      9\u001b[0m     \u001b[0;32mif\u001b[0m \u001b[0mi\u001b[0m \u001b[0;32min\u001b[0m \u001b[0mj\u001b[0m\u001b[0;34m:\u001b[0m\u001b[0;34m\u001b[0m\u001b[0;34m\u001b[0m\u001b[0m\n\u001b[1;32m     10\u001b[0m       \u001b[0mprint\u001b[0m\u001b[0;34m(\u001b[0m\u001b[0mtype\u001b[0m\u001b[0;34m(\u001b[0m\u001b[0mt\u001b[0m\u001b[0;34m)\u001b[0m\u001b[0;34m)\u001b[0m\u001b[0;34m\u001b[0m\u001b[0;34m\u001b[0m\u001b[0m\n\u001b[0;32m---> 11\u001b[0;31m       \u001b[0mt\u001b[0m\u001b[0;34m[\u001b[0m\u001b[0mj\u001b[0m\u001b[0;34m[\u001b[0m\u001b[0;36m0\u001b[0m\u001b[0;34m]\u001b[0m\u001b[0;34m]\u001b[0m \u001b[0;34m=\u001b[0m \u001b[0mj\u001b[0m\u001b[0;34m[\u001b[0m\u001b[0;36m1\u001b[0m\u001b[0;34m]\u001b[0m\u001b[0;34m\u001b[0m\u001b[0;34m\u001b[0m\u001b[0m\n\u001b[0m\u001b[1;32m     12\u001b[0m     \u001b[0;32melse\u001b[0m\u001b[0;34m:\u001b[0m\u001b[0;34m\u001b[0m\u001b[0;34m\u001b[0m\u001b[0m\n\u001b[1;32m     13\u001b[0m       \u001b[0mt\u001b[0m \u001b[0;34m=\u001b[0m\u001b[0;34m\"Unkown\"\u001b[0m\u001b[0;34m\u001b[0m\u001b[0;34m\u001b[0m\u001b[0m\n",
      "\u001b[0;31mTypeError\u001b[0m: 'str' object does not support item assignment"
     ]
    }
   ],
   "source": [
    "fruit_infos = [(\"apple\", \"Apple Cyder\"), (\"mango\", \"Fruti\"), (\"Grapes\", \"Wine\"), (\"orange\", \"Tropicana\")]\n",
    "fruit_list = [\"apple\", \"mango\", \"litchi\", \"apple\", \"Grapes\", \"Guava\"]\n",
    "t = {}\n",
    "\n",
    "# any('geeksforgeeks' in i for i in test_tuple)\n",
    "\n",
    "for i in fruit_list:\n",
    "  for j in fruit_infos:\n",
    "    if i in j:\n",
    "      t[j[0]] = j[1]\n",
    "    else:\n",
    "      t =\"Unkown\"\n",
    "\n"
   ]
  },
  {
   "cell_type": "code",
   "execution_count": null,
   "metadata": {
    "executionInfo": {
     "elapsed": 3,
     "status": "ok",
     "timestamp": 1648556844943,
     "user": {
      "displayName": "Madan Baduwal",
      "userId": "00884602456679084136"
     },
     "user_tz": -345
    },
    "id": "sbatAkEopHYX"
   },
   "outputs": [],
   "source": []
  }
 ],
 "metadata": {
  "colab": {
   "authorship_tag": "ABX9TyN6gNU+kNr6b59PMCpTppcF",
   "collapsed_sections": [],
   "name": "Transformer_theory.ipynb",
   "provenance": []
  },
  "kernelspec": {
   "display_name": "Python 3",
   "language": "python",
   "name": "python3"
  },
  "language_info": {
   "codemirror_mode": {
    "name": "ipython",
    "version": 3
   },
   "file_extension": ".py",
   "mimetype": "text/x-python",
   "name": "python",
   "nbconvert_exporter": "python",
   "pygments_lexer": "ipython3",
   "version": "3.7.3"
  }
 },
 "nbformat": 4,
 "nbformat_minor": 1
}
